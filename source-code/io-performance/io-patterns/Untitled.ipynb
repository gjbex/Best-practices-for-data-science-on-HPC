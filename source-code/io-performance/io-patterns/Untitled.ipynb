{
 "cells": [
  {
   "cell_type": "code",
   "execution_count": 2,
   "id": "e209ef24-0b10-4d43-9ab5-0bafbd9261a5",
   "metadata": {},
   "outputs": [],
   "source": [
    "file = open('data.txt', 'rb')"
   ]
  },
  {
   "cell_type": "code",
   "execution_count": 3,
   "id": "78d197de-c139-468d-804d-8389777bef51",
   "metadata": {},
   "outputs": [],
   "source": [
    "buffer = file.read(1_000)"
   ]
  },
  {
   "cell_type": "code",
   "execution_count": 4,
   "id": "9f8aa2b2-3852-45d9-93de-41678f8ecf15",
   "metadata": {},
   "outputs": [],
   "source": [
    "buffer_view = memoryview(buffer)"
   ]
  },
  {
   "cell_type": "code",
   "execution_count": 5,
   "id": "77228654-9faf-441b-88e3-ae2179998c0f",
   "metadata": {},
   "outputs": [],
   "source": [
    "def buffer_find(buffer_view, char, start=0):\n",
    "    pos = start\n",
    "    while pos < len(buffer_view):\n",
    "        if buffer_view[pos] == char:\n",
    "            return pos\n",
    "        pos += 1\n",
    "    return -1"
   ]
  },
  {
   "cell_type": "code",
   "execution_count": 15,
   "id": "b4b13469-49d8-4698-80eb-ba72c2ee78da",
   "metadata": {},
   "outputs": [],
   "source": [
    "from dataclasses import dataclass"
   ]
  },
  {
   "cell_type": "code",
   "execution_count": 16,
   "id": "9dd1c304-ff66-4e19-9b77-e2a03d9b0c02",
   "metadata": {},
   "outputs": [],
   "source": [
    "@dataclass\n",
    "class Info:\n",
    "    minimum: float = float('inf')\n",
    "    maximum: float = float('-inf')\n",
    "    count: int = 0\n",
    "    total: float = 0.0"
   ]
  },
  {
   "cell_type": "code",
   "execution_count": 6,
   "id": "a5331e1c-c1cb-41b8-b3d0-6e8c80fa452d",
   "metadata": {},
   "outputs": [],
   "source": [
    "kv_sep, eol_sep = ord(';'), ord('\\n')"
   ]
  },
  {
   "cell_type": "code",
   "execution_count": 38,
   "id": "44c57e86-6e0c-485a-b903-581cbdffdcbe",
   "metadata": {},
   "outputs": [],
   "source": [
    "def update_count(buffer_view, start_pos, kv_sep, eol, counts):\n",
    "    pos = start_pos\n",
    "    while pos < len(buffer_view):\n",
    "        if buffer_view[pos] == kv_sep:\n",
    "            key = buffer_view[start_pos:pos].tobytes()\n",
    "            start_pos = pos + 1\n",
    "\n",
    "        elif buffer_view[pos] == eol:\n",
    "            value = float(buffer_view[start_pos:pos].tobytes())\n",
    "            info = counts[key]\n",
    "            info.minimum = min(info.minimum, value)\n",
    "            info.maximum = max(info.maximum, value)\n",
    "            info.count += 1\n",
    "            info.total += value\n",
    "            return pos\n",
    "    return -1"
   ]
  },
  {
   "cell_type": "code",
   "execution_count": 29,
   "id": "05edc813-0029-4d74-8ffc-8d144e891a4a",
   "metadata": {},
   "outputs": [],
   "source": [
    "from collections import defaultdict"
   ]
  },
  {
   "cell_type": "code",
   "execution_count": 39,
   "id": "5897e1af-1ed6-4a31-aedb-9803545eccd3",
   "metadata": {},
   "outputs": [],
   "source": [
    "counts = defaultdict(Info)"
   ]
  },
  {
   "cell_type": "code",
   "execution_count": 40,
   "id": "c2dbd79f-bb0f-40a8-9bbb-67bf8b5a4684",
   "metadata": {
    "scrolled": true
   },
   "outputs": [
    {
     "ename": "KeyboardInterrupt",
     "evalue": "",
     "output_type": "error",
     "traceback": [
      "\u001b[0;31m---------------------------------------------------------------------------\u001b[0m",
      "\u001b[0;31mKeyboardInterrupt\u001b[0m                         Traceback (most recent call last)",
      "Cell \u001b[0;32mIn[40], line 3\u001b[0m\n\u001b[1;32m      1\u001b[0m pos \u001b[38;5;241m=\u001b[39m \u001b[38;5;241m0\u001b[39m\n\u001b[1;32m      2\u001b[0m \u001b[38;5;28;01mwhile\u001b[39;00m pos \u001b[38;5;241m<\u001b[39m \u001b[38;5;28mlen\u001b[39m(buffer_view):\n\u001b[0;32m----> 3\u001b[0m     new_pos \u001b[38;5;241m=\u001b[39m \u001b[43mupdate_count\u001b[49m\u001b[43m(\u001b[49m\u001b[43mbuffer_view\u001b[49m\u001b[43m,\u001b[49m\u001b[43m \u001b[49m\u001b[43mpos\u001b[49m\u001b[43m,\u001b[49m\u001b[43m \u001b[49m\u001b[43mkv_sep\u001b[49m\u001b[43m,\u001b[49m\u001b[43m \u001b[49m\u001b[43meol_sep\u001b[49m\u001b[43m,\u001b[49m\u001b[43m \u001b[49m\u001b[43mcounts\u001b[49m\u001b[43m)\u001b[49m \u001b[38;5;241m+\u001b[39m \u001b[38;5;241m1\u001b[39m\n\u001b[1;32m      4\u001b[0m     \u001b[38;5;28;01mif\u001b[39;00m new_pos \u001b[38;5;241m>\u001b[39m\u001b[38;5;241m=\u001b[39m \u001b[38;5;241m0\u001b[39m:\n\u001b[1;32m      5\u001b[0m         pos \u001b[38;5;241m=\u001b[39m new_pos \u001b[38;5;241m+\u001b[39m \u001b[38;5;241m1\u001b[39m\n",
      "Cell \u001b[0;32mIn[38], line 3\u001b[0m, in \u001b[0;36mupdate_count\u001b[0;34m(buffer_view, start_pos, kv_sep, eol, counts)\u001b[0m\n\u001b[1;32m      1\u001b[0m \u001b[38;5;28;01mdef\u001b[39;00m \u001b[38;5;21mupdate_count\u001b[39m(buffer_view, start_pos, kv_sep, eol, counts):\n\u001b[1;32m      2\u001b[0m     pos \u001b[38;5;241m=\u001b[39m start_pos\n\u001b[0;32m----> 3\u001b[0m     \u001b[38;5;28;01mwhile\u001b[39;00m pos \u001b[38;5;241m<\u001b[39m \u001b[38;5;28mlen\u001b[39m(buffer_view):\n\u001b[1;32m      4\u001b[0m         \u001b[38;5;28;01mif\u001b[39;00m buffer_view[pos] \u001b[38;5;241m==\u001b[39m kv_sep:\n\u001b[1;32m      5\u001b[0m             key \u001b[38;5;241m=\u001b[39m buffer_view[start_pos:pos]\u001b[38;5;241m.\u001b[39mtobytes()\n",
      "\u001b[0;31mKeyboardInterrupt\u001b[0m: "
     ]
    }
   ],
   "source": [
    "pos = 0\n",
    "while pos < len(buffer_view):\n",
    "    new_pos = update_count(buffer_view, pos, kv_sep, eol_sep, counts) + 1\n",
    "    if new_pos >= 0:\n",
    "        pos = new_pos + 1\n",
    "    else:\n",
    "        remainder = buffer[pos:]\n",
    "        break"
   ]
  },
  {
   "cell_type": "code",
   "execution_count": null,
   "id": "af713e21-c850-4cb2-8e76-35bcced99e5a",
   "metadata": {},
   "outputs": [],
   "source": [
    "counts"
   ]
  },
  {
   "cell_type": "code",
   "execution_count": 24,
   "id": "d924ff16-2110-4c54-bc2f-fd4b0fda8f9e",
   "metadata": {},
   "outputs": [
    {
     "data": {
      "text/plain": [
       "18"
      ]
     },
     "execution_count": 24,
     "metadata": {},
     "output_type": "execute_result"
    }
   ],
   "source": [
    "len(counts)"
   ]
  },
  {
   "cell_type": "code",
   "execution_count": 25,
   "id": "39ffa343-5aab-4ac3-ac26-32c6d82053ae",
   "metadata": {},
   "outputs": [
    {
     "ename": "NameError",
     "evalue": "name 'remainder' is not defined",
     "output_type": "error",
     "traceback": [
      "\u001b[0;31m---------------------------------------------------------------------------\u001b[0m",
      "\u001b[0;31mNameError\u001b[0m                                 Traceback (most recent call last)",
      "Cell \u001b[0;32mIn[25], line 1\u001b[0m\n\u001b[0;32m----> 1\u001b[0m \u001b[43mremainder\u001b[49m\n",
      "\u001b[0;31mNameError\u001b[0m: name 'remainder' is not defined"
     ]
    }
   ],
   "source": [
    "remainder"
   ]
  },
  {
   "cell_type": "code",
   "execution_count": null,
   "id": "70f1583f-876c-4dce-9a8e-a2e72e83adae",
   "metadata": {},
   "outputs": [],
   "source": []
  }
 ],
 "metadata": {
  "kernelspec": {
   "display_name": "Python 3 (ipykernel)",
   "language": "python",
   "name": "python3"
  },
  "language_info": {
   "codemirror_mode": {
    "name": "ipython",
    "version": 3
   },
   "file_extension": ".py",
   "mimetype": "text/x-python",
   "name": "python",
   "nbconvert_exporter": "python",
   "pygments_lexer": "ipython3",
   "version": "3.12.7"
  }
 },
 "nbformat": 4,
 "nbformat_minor": 5
}
